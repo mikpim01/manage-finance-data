{
 "cells": [
  {
   "cell_type": "code",
   "execution_count": null,
   "id": "ec555470",
   "metadata": {},
   "outputs": [],
   "source": [
    "1 + 4"
   ]
  },
  {
   "cell_type": "markdown",
   "id": "8800f9bb",
   "metadata": {},
   "source": [
    "# Head 1\n",
    "***\n",
    "## Head 2\n",
    "---\n",
    "### Head 3\n",
    "---\n",
    "\n",
    "#### LaTeX below\n",
    "\n",
    "Euler's identity: $ e^{i \\pi} + 1 = 0 $\n",
    "\n",
    "Euler's identity: $$ e^{i \\pi} + 1 = 0 $$\n",
    "\n",
    "\n",
    "Given : $\\pi = 3.14$ , $\\alpha = \\frac{3\\pi}{4}\\, rad$\n",
    "$$\n",
    "\\omega = 2\\pi f \\\\\n",
    "f = \\frac{c}{\\lambda}\\\\\n",
    "\\lambda_0=\\theta^2+\\delta\\\\\n",
    "\\Delta\\lambda = \\frac{1}{\\lambda^2}\n",
    "$$"
   ]
  },
  {
   "cell_type": "code",
   "execution_count": null,
   "id": "3b18b6b9",
   "metadata": {},
   "outputs": [],
   "source": [
    "a = 6"
   ]
  },
  {
   "cell_type": "code",
   "execution_count": null,
   "id": "d5d95090",
   "metadata": {},
   "outputs": [],
   "source": [
    "print(a)"
   ]
  },
  {
   "cell_type": "code",
   "execution_count": null,
   "id": "1768bb5b",
   "metadata": {},
   "outputs": [],
   "source": []
  }
 ],
 "metadata": {
  "kernelspec": {
   "display_name": "Python 3 (ipykernel)",
   "language": "python",
   "name": "python3"
  },
  "language_info": {
   "codemirror_mode": {
    "name": "ipython",
    "version": 3
   },
   "file_extension": ".py",
   "mimetype": "text/x-python",
   "name": "python",
   "nbconvert_exporter": "python",
   "pygments_lexer": "ipython3",
   "version": "3.10.4"
  }
 },
 "nbformat": 4,
 "nbformat_minor": 5
}
